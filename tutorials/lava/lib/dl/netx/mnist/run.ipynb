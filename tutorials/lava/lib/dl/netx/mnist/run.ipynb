{
 "cells": [
  {
   "cell_type": "markdown",
   "id": "534eb501-a3d6-4871-b989-ecfd3963b9d4",
   "metadata": {},
   "source": [
    "# MNIST Classification\n",
    "\n",
    "This tutorial demonstrates how to use the `lava.lib.dl.netx` to "
   ]
  },
  {
   "cell_type": "code",
   "execution_count": null,
   "id": "e631f150-b07d-4cac-812e-d3c64cc91c84",
   "metadata": {},
   "outputs": [],
   "source": []
  }
 ],
 "metadata": {
  "kernelspec": {
   "display_name": "Python 3 (ipykernel)",
   "language": "python",
   "name": "python3"
  },
  "language_info": {
   "codemirror_mode": {
    "name": "ipython",
    "version": 3
   },
   "file_extension": ".py",
   "mimetype": "text/x-python",
   "name": "python",
   "nbconvert_exporter": "python",
   "pygments_lexer": "ipython3",
   "version": "3.10.8"
  }
 },
 "nbformat": 4,
 "nbformat_minor": 5
}
