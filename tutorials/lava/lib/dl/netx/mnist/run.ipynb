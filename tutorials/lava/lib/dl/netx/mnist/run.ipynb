{
 "cells": [
  {
   "cell_type": "markdown",
   "id": "534eb501-a3d6-4871-b989-ecfd3963b9d4",
   "metadata": {},
   "source": [
    "# MNIST Classification\n",
    "\n",
    "This tutorial demonstrates how to use the `lava.lib.dl.netx` API to classify MNIST images, using a `lava.lib.dl.slayer` trained network. The classification is done on both: CPU (via $\\texttt{Loihi2SimCfg}$) and Loihi-2 neuro-cores (via $\\texttt{Loihi2HwCfg}$).\n",
    "\n",
    "Note that this inference tutorial is part of the **end-to-end training** and **evaluation** tutorial: [mnist-on-loihi](https://github.com/R-Gaurav/mnist-on-loihi) -- it contains all the inference code explained here, as well as the `slayer` training code to obtain the trained network-weights (used here). In this tutorial, we will _not_ be training the `slayer` network, rather load the exported (trained) weights via `netx` and do inference on two backends: $\\textsf{Loihi-2 Simulation}$ ($\\texttt{Loihi2SimCfg}$) and $\\textsf{Loihi-2 Hardware}$ ($\\texttt{Loihi2HwCfg}$). The `slayer` training procedure is explained in the [accompanying tutorial](https://r-gaurav.github.io/2024/04/13/Lava-Tutorial-MNIST-Training-on-GPU-and-Evaluation-on-Loihi2.html) and is quite straight-forward. However, there are some tips-and-tricks to keep in mind while evaluating the trained `slayer` network via `netx`; and that's precisely the point of this tutorial. Without further ado, let's begin!"
   ]
  },
  {
   "cell_type": "markdown",
   "id": "236eab5f-912e-4df3-99b4-42c92998957e",
   "metadata": {},
   "source": []
  },
  {
   "cell_type": "markdown",
   "id": "6df5d3be-7713-4493-b1a5-396da3bdb78a",
   "metadata": {},
   "source": [
    "# Load the `slayer`-trained weights"
   ]
  },
  {
   "cell_type": "code",
   "execution_count": null,
   "id": "9bc309c5-35d3-4417-8a7e-97dec5048376",
   "metadata": {},
   "outputs": [],
   "source": []
  }
 ],
 "metadata": {
  "kernelspec": {
   "display_name": "Python 3 (ipykernel)",
   "language": "python",
   "name": "python3"
  },
  "language_info": {
   "codemirror_mode": {
    "name": "ipython",
    "version": 3
   },
   "file_extension": ".py",
   "mimetype": "text/x-python",
   "name": "python",
   "nbconvert_exporter": "python",
   "pygments_lexer": "ipython3",
   "version": "3.10.8"
  }
 },
 "nbformat": 4,
 "nbformat_minor": 5
}
